{
 "cells": [
  {
   "cell_type": "markdown",
   "metadata": {},
   "source": [
    "# Synopsis For Mandatory 2\n",
    "This synopsis will go through following topics: `Pythons datastructures` `Pythonic OOP` `Functions in python` `Data analyse & visualization`"
   ]
  },
  {
   "cell_type": "markdown",
   "metadata": {},
   "source": [
    "## Pythons datastructures\n",
    "Within Python data structures are used to store and organize data, Python provides several built-in-data structures which is:\n",
    "All of them allows elements of different datatypes.\n",
    "\n",
    "List/array:  [“John Doe”, 1970, True] \n",
    "Lists are ordered collections of data, and they are mutable which allow manipulating the element after instantiation adding, deleting, sorting etc.\n",
    "\n",
    "Tuple: (“John Doe”, 1970, True) Tuples are ordered and immutable which makes the data stored inside tuples static.\n",
    "\n",
    "Dictionary: (“name”: “John Doe”, “born_year”: 1970, “is_tired”: True) Unordered key-value pair based collection of elements, each key must be unique. Dictionaries are mutable so that elements can be added or removed.\n",
    "\n",
    "Set: {“John Doe”, 1970, True} Unordered mutable collections of unique elements, perfect for different use cases could be removing duplicate entries for a given list.\n"
   ]
  },
  {
   "cell_type": "code",
   "execution_count": 4,
   "metadata": {},
   "outputs": [],
   "source": [
    "a_string = \"I'm a string\"\n",
    "a_number = 100\n",
    "\n",
    "# Imutable vs mutable\n",
    "array = [\"John Doe\"]\n",
    "dictionary = {\"name\": \"John Doe\"}\n",
    "tuple = (\"John Doe\")"
   ]
  },
  {
   "cell_type": "markdown",
   "metadata": {},
   "source": [
    "## Pythonic OOP\n",
    "\n",
    "The paradigm of object-oriented programming is well integrated in the Pythonic language. To create an object, a class must be defined, serving as the blueprint it’s instantiation, specifying properties (static and state-related) and methods, including the use of inheritance with polymorphism.\n",
    "\n",
    "Each class  typically has a constructor/initializer for common practice, which controls the instantiation of the object __init__ maybe it takes arguments to set a current state or just a default creation.\n",
    "\n"
   ]
  },
  {
   "cell_type": "markdown",
   "metadata": {},
   "source": [
    "## Functions in python\n",
    "Build-in functions, functions in general, decorators e.g"
   ]
  },
  {
   "cell_type": "markdown",
   "metadata": {},
   "source": [
    "## Data analyse & visualization"
   ]
  }
 ],
 "metadata": {
  "kernelspec": {
   "display_name": "venv",
   "language": "python",
   "name": "python3"
  },
  "language_info": {
   "codemirror_mode": {
    "name": "ipython",
    "version": 3
   },
   "file_extension": ".py",
   "mimetype": "text/x-python",
   "name": "python",
   "nbconvert_exporter": "python",
   "pygments_lexer": "ipython3",
   "version": "3.12.3"
  }
 },
 "nbformat": 4,
 "nbformat_minor": 2
}
